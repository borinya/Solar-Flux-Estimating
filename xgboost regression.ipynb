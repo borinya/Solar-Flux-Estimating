{
 "cells": [
  {
   "cell_type": "code",
   "execution_count": 29,
   "id": "c26639c3",
   "metadata": {},
   "outputs": [],
   "source": [
    "import pandas as pd\n",
    "import numpy as np\n",
    "from matplotlib import pyplot as plt\n",
    "\n",
    "import sklearn\n",
    "from sklearn.ensemble import RandomForestRegressor, GradientBoostingRegressor\n",
    "from sklearn.linear_model import Ridge, LinearRegression, HuberRegressor\n",
    "from sklearn.metrics import mean_absolute_error\n",
    "from sklearn.model_selection import train_test_split\n",
    "from sklearn.model_selection import cross_val_score, cross_validate\n",
    "from sklearn.metrics import make_scorer, mean_squared_error, mean_absolute_error\n",
    "from sklearn.model_selection import GridSearchCV, RandomizedSearchCV\n",
    "\n",
    "import itertools\n",
    "import pickle\n",
    "from tqdm import tqdm\n",
    "\n",
    "from datetime import datetime\n",
    "from datetime import timedelta\n",
    "\n",
    "import optuna\n",
    "import pickle\n",
    "import joblib\n",
    "import xgboost\n",
    "\n",
    "n_jobs = 20"
   ]
  },
  {
   "cell_type": "code",
   "execution_count": 2,
   "id": "7239ffea",
   "metadata": {},
   "outputs": [
    {
     "data": {
      "text/html": [
       "<div>\n",
       "<style scoped>\n",
       "    .dataframe tbody tr th:only-of-type {\n",
       "        vertical-align: middle;\n",
       "    }\n",
       "\n",
       "    .dataframe tbody tr th {\n",
       "        vertical-align: top;\n",
       "    }\n",
       "\n",
       "    .dataframe thead th {\n",
       "        text-align: right;\n",
       "    }\n",
       "</style>\n",
       "<table border=\"1\" class=\"dataframe\">\n",
       "  <thead>\n",
       "    <tr style=\"text-align: right;\">\n",
       "      <th></th>\n",
       "      <th>photo_name</th>\n",
       "      <th>photo_datetime</th>\n",
       "      <th>CM3up[W/m2]</th>\n",
       "      <th>CG3up[W/m2]</th>\n",
       "      <th>CM3down[W/m2]</th>\n",
       "      <th>CG3down[W/m2]</th>\n",
       "      <th>radiation_datetime</th>\n",
       "      <th>feature0</th>\n",
       "      <th>feature1</th>\n",
       "      <th>feature2</th>\n",
       "      <th>...</th>\n",
       "      <th>feature159</th>\n",
       "      <th>feature160</th>\n",
       "      <th>feature161</th>\n",
       "      <th>date-hour</th>\n",
       "      <th>datetime_UTC</th>\n",
       "      <th>lat</th>\n",
       "      <th>lon</th>\n",
       "      <th>sun_altitude</th>\n",
       "      <th>sin_sun</th>\n",
       "      <th>date_hour</th>\n",
       "    </tr>\n",
       "  </thead>\n",
       "  <tbody>\n",
       "    <tr>\n",
       "      <th>0</th>\n",
       "      <td>img-2014-09-17T10-00-43devID1.jpg</td>\n",
       "      <td>2014-09-17 10:00:43</td>\n",
       "      <td>158.833993</td>\n",
       "      <td>-91.263207</td>\n",
       "      <td>39.045110</td>\n",
       "      <td>-2.084933</td>\n",
       "      <td>2014-09-17 10:00:44</td>\n",
       "      <td>97.094520</td>\n",
       "      <td>1751.681381</td>\n",
       "      <td>255.0</td>\n",
       "      <td>...</td>\n",
       "      <td>0.538882</td>\n",
       "      <td>0.722970</td>\n",
       "      <td>0.973412</td>\n",
       "      <td>2014-09-17-10</td>\n",
       "      <td>2014-09-17 10:00:43.290268</td>\n",
       "      <td>66.583405</td>\n",
       "      <td>-29.273292</td>\n",
       "      <td>14.318959</td>\n",
       "      <td>0.247320</td>\n",
       "      <td>2014-09-17 10:00:00</td>\n",
       "    </tr>\n",
       "    <tr>\n",
       "      <th>1</th>\n",
       "      <td>img-2014-09-17T10-00-44devID2.jpg</td>\n",
       "      <td>2014-09-17 10:00:44</td>\n",
       "      <td>158.833993</td>\n",
       "      <td>-91.263207</td>\n",
       "      <td>39.045110</td>\n",
       "      <td>-2.084933</td>\n",
       "      <td>2014-09-17 10:00:44</td>\n",
       "      <td>107.922526</td>\n",
       "      <td>1848.315610</td>\n",
       "      <td>255.0</td>\n",
       "      <td>...</td>\n",
       "      <td>0.553206</td>\n",
       "      <td>0.722807</td>\n",
       "      <td>0.973412</td>\n",
       "      <td>2014-09-17-10</td>\n",
       "      <td>2014-09-17 10:00:43.290268</td>\n",
       "      <td>66.583405</td>\n",
       "      <td>-29.273292</td>\n",
       "      <td>14.318959</td>\n",
       "      <td>0.247320</td>\n",
       "      <td>2014-09-17 10:00:00</td>\n",
       "    </tr>\n",
       "    <tr>\n",
       "      <th>2</th>\n",
       "      <td>img-2014-09-17T10-01-43devID1.jpg</td>\n",
       "      <td>2014-09-17 10:01:43</td>\n",
       "      <td>149.357024</td>\n",
       "      <td>-88.420117</td>\n",
       "      <td>34.590935</td>\n",
       "      <td>0.189539</td>\n",
       "      <td>2014-09-17 10:01:44</td>\n",
       "      <td>96.720268</td>\n",
       "      <td>1685.916556</td>\n",
       "      <td>255.0</td>\n",
       "      <td>...</td>\n",
       "      <td>0.538814</td>\n",
       "      <td>0.703659</td>\n",
       "      <td>0.973412</td>\n",
       "      <td>2014-09-17-10</td>\n",
       "      <td>2014-09-17 10:01:43.301701</td>\n",
       "      <td>66.583967</td>\n",
       "      <td>-29.276475</td>\n",
       "      <td>14.403886</td>\n",
       "      <td>0.248756</td>\n",
       "      <td>2014-09-17 10:00:00</td>\n",
       "    </tr>\n",
       "    <tr>\n",
       "      <th>3</th>\n",
       "      <td>img-2014-09-17T10-01-44devID2.jpg</td>\n",
       "      <td>2014-09-17 10:01:44</td>\n",
       "      <td>149.357024</td>\n",
       "      <td>-88.420117</td>\n",
       "      <td>34.590935</td>\n",
       "      <td>0.189539</td>\n",
       "      <td>2014-09-17 10:01:44</td>\n",
       "      <td>107.917577</td>\n",
       "      <td>1830.592868</td>\n",
       "      <td>255.0</td>\n",
       "      <td>...</td>\n",
       "      <td>0.554802</td>\n",
       "      <td>0.722170</td>\n",
       "      <td>0.973412</td>\n",
       "      <td>2014-09-17-10</td>\n",
       "      <td>2014-09-17 10:01:43.301701</td>\n",
       "      <td>66.583967</td>\n",
       "      <td>-29.276475</td>\n",
       "      <td>14.403886</td>\n",
       "      <td>0.248756</td>\n",
       "      <td>2014-09-17 10:00:00</td>\n",
       "    </tr>\n",
       "    <tr>\n",
       "      <th>4</th>\n",
       "      <td>img-2014-09-17T10-02-43devID1.jpg</td>\n",
       "      <td>2014-09-17 10:02:43</td>\n",
       "      <td>143.102225</td>\n",
       "      <td>-88.135807</td>\n",
       "      <td>36.391559</td>\n",
       "      <td>0.473848</td>\n",
       "      <td>2014-09-17 10:02:44</td>\n",
       "      <td>96.890459</td>\n",
       "      <td>1671.656306</td>\n",
       "      <td>255.0</td>\n",
       "      <td>...</td>\n",
       "      <td>0.543301</td>\n",
       "      <td>0.702826</td>\n",
       "      <td>0.973412</td>\n",
       "      <td>2014-09-17-10</td>\n",
       "      <td>2014-09-17 10:02:43.303133</td>\n",
       "      <td>66.584686</td>\n",
       "      <td>-29.280270</td>\n",
       "      <td>14.488320</td>\n",
       "      <td>0.250183</td>\n",
       "      <td>2014-09-17 10:00:00</td>\n",
       "    </tr>\n",
       "  </tbody>\n",
       "</table>\n",
       "<p>5 rows × 176 columns</p>\n",
       "</div>"
      ],
      "text/plain": [
       "                          photo_name      photo_datetime  CM3up[W/m2]  \\\n",
       "0  img-2014-09-17T10-00-43devID1.jpg 2014-09-17 10:00:43   158.833993   \n",
       "1  img-2014-09-17T10-00-44devID2.jpg 2014-09-17 10:00:44   158.833993   \n",
       "2  img-2014-09-17T10-01-43devID1.jpg 2014-09-17 10:01:43   149.357024   \n",
       "3  img-2014-09-17T10-01-44devID2.jpg 2014-09-17 10:01:44   149.357024   \n",
       "4  img-2014-09-17T10-02-43devID1.jpg 2014-09-17 10:02:43   143.102225   \n",
       "\n",
       "   CG3up[W/m2]  CM3down[W/m2]  CG3down[W/m2]  radiation_datetime    feature0  \\\n",
       "0   -91.263207      39.045110      -2.084933 2014-09-17 10:00:44   97.094520   \n",
       "1   -91.263207      39.045110      -2.084933 2014-09-17 10:00:44  107.922526   \n",
       "2   -88.420117      34.590935       0.189539 2014-09-17 10:01:44   96.720268   \n",
       "3   -88.420117      34.590935       0.189539 2014-09-17 10:01:44  107.917577   \n",
       "4   -88.135807      36.391559       0.473848 2014-09-17 10:02:44   96.890459   \n",
       "\n",
       "      feature1  feature2  ...  feature159  feature160  feature161  \\\n",
       "0  1751.681381     255.0  ...    0.538882    0.722970    0.973412   \n",
       "1  1848.315610     255.0  ...    0.553206    0.722807    0.973412   \n",
       "2  1685.916556     255.0  ...    0.538814    0.703659    0.973412   \n",
       "3  1830.592868     255.0  ...    0.554802    0.722170    0.973412   \n",
       "4  1671.656306     255.0  ...    0.543301    0.702826    0.973412   \n",
       "\n",
       "       date-hour                datetime_UTC        lat        lon  \\\n",
       "0  2014-09-17-10  2014-09-17 10:00:43.290268  66.583405 -29.273292   \n",
       "1  2014-09-17-10  2014-09-17 10:00:43.290268  66.583405 -29.273292   \n",
       "2  2014-09-17-10  2014-09-17 10:01:43.301701  66.583967 -29.276475   \n",
       "3  2014-09-17-10  2014-09-17 10:01:43.301701  66.583967 -29.276475   \n",
       "4  2014-09-17-10  2014-09-17 10:02:43.303133  66.584686 -29.280270   \n",
       "\n",
       "   sun_altitude   sin_sun           date_hour  \n",
       "0     14.318959  0.247320 2014-09-17 10:00:00  \n",
       "1     14.318959  0.247320 2014-09-17 10:00:00  \n",
       "2     14.403886  0.248756 2014-09-17 10:00:00  \n",
       "3     14.403886  0.248756 2014-09-17 10:00:00  \n",
       "4     14.488320  0.250183 2014-09-17 10:00:00  \n",
       "\n",
       "[5 rows x 176 columns]"
      ]
     },
     "execution_count": 2,
     "metadata": {},
     "output_type": "execute_result"
    }
   ],
   "source": [
    "df_train = pd.read_csv('/storage/kubrick/vkoshkina/data/train_classic_full.csv', sep=',', decimal='.', parse_dates=['photo_datetime', 'radiation_datetime'])\n",
    "df_test = pd.read_csv('/storage/kubrick/vkoshkina/data/test_classic_full.csv', sep=',', decimal='.', parse_dates=['photo_datetime', 'radiation_datetime'])\n",
    "#df_train.shape, df_test.shape\n",
    "df_train['sin_sun'] = np.sin(np.radians(df_train['sun_altitude'].values))\n",
    "df_test['sin_sun'] = np.sin(np.radians(df_test['sun_altitude'].values))\n",
    "df_train['date_hour'] = pd.to_datetime(df_train['photo_datetime'].dt.date) + \\\n",
    "           pd.to_timedelta(df_train['photo_datetime'].dt.hour, unit='hours')\n",
    "df_test['date_hour'] = pd.to_datetime(df_test['photo_datetime'].dt.date) + \\\n",
    "           pd.to_timedelta(df_test['photo_datetime'].dt.hour, unit='hours')\n",
    "df_full = pd.concat((df_train, df_test))\n",
    "df_full['date_hour'] = pd.to_datetime(df_full['photo_datetime'].dt.date) + \\\n",
    "           pd.to_timedelta(df_full['photo_datetime'].dt.hour, unit='hours')\n",
    "df_full.head()"
   ]
  },
  {
   "cell_type": "code",
   "execution_count": 3,
   "id": "e299de22",
   "metadata": {},
   "outputs": [],
   "source": [
    "def create_Xy(df_train):\n",
    "    feature_columns = [c for c in df_train.columns if c.startswith('f') or c=='sin_sun']    \n",
    "    ytr = df_train['CM3up[W/m2]'].values\n",
    "    Xtr = df_train[feature_columns].values\n",
    "    #print('dataset_features: ' + str(Xtr.shape) + ', target: ' + str(ytr.shape))\n",
    "    return Xtr, ytr"
   ]
  },
  {
   "cell_type": "code",
   "execution_count": 4,
   "id": "1a0d0982",
   "metadata": {},
   "outputs": [],
   "source": [
    "Xtr, ytr = create_Xy(df_train)\n",
    "Xtest, ytest = create_Xy(df_test)"
   ]
  },
  {
   "cell_type": "code",
   "execution_count": null,
   "id": "45704e64",
   "metadata": {},
   "outputs": [],
   "source": []
  },
  {
   "cell_type": "code",
   "execution_count": null,
   "id": "cbe7771f",
   "metadata": {},
   "outputs": [],
   "source": []
  },
  {
   "cell_type": "code",
   "execution_count": null,
   "id": "52c9540f",
   "metadata": {},
   "outputs": [],
   "source": []
  },
  {
   "cell_type": "code",
   "execution_count": null,
   "id": "84f6dfc6",
   "metadata": {},
   "outputs": [],
   "source": [
    "(ytr[:,np.newaxis]>=bounds[:-1,np.newaxis].T) & (ytr[:,np.newaxis]<=bounds[1:,np.newaxis].T) [1]"
   ]
  },
  {
   "cell_type": "code",
   "execution_count": null,
   "id": "7fa96ecb",
   "metadata": {},
   "outputs": [],
   "source": [
    "perc = np.percentile(ytr, np.arange(0, 101))\n",
    "di = perc[1:] - perc[:-1]\n",
    "wi = (1/di)/np.mean(1/di)\n",
    "weights_with_alfa = (wi-1)*alfa+1\n",
    "weight_index = np.where(((ytr[:,np.newaxis]>=di[:-1,np.newaxis].T) & (ytr[:,np.newaxis]<=di[1:,np.newaxis].T) ) )  [1]\n",
    "complex_weights = wi[weight_index]\n",
    "len(weight_index), len(ytr), len(bounds), len( d_i)"
   ]
  },
  {
   "cell_type": "code",
   "execution_count": null,
   "id": "0f6b0afb",
   "metadata": {},
   "outputs": [],
   "source": []
  },
  {
   "cell_type": "code",
   "execution_count": null,
   "id": "b3cee934",
   "metadata": {},
   "outputs": [],
   "source": []
  },
  {
   "cell_type": "code",
   "execution_count": null,
   "id": "3998af37",
   "metadata": {},
   "outputs": [],
   "source": []
  },
  {
   "cell_type": "code",
   "execution_count": null,
   "id": "3b210cd5",
   "metadata": {},
   "outputs": [],
   "source": []
  },
  {
   "cell_type": "code",
   "execution_count": 6,
   "id": "0d4aee4b",
   "metadata": {},
   "outputs": [],
   "source": [
    "alfa = 0.5"
   ]
  },
  {
   "cell_type": "code",
   "execution_count": 23,
   "id": "6e5bf799",
   "metadata": {},
   "outputs": [
    {
     "data": {
      "text/plain": [
       "(1041734, 1041734, 101, 100)"
      ]
     },
     "execution_count": 23,
     "metadata": {},
     "output_type": "execute_result"
    }
   ],
   "source": [
    "# bounds = np.percentile(ytr, np.arange(0, 101))\n",
    "# d_i = bounds[1:] - bounds[:-1]\n",
    "# weights_classic =  weights_classic = (1/d_i)/np.mean(1/d_i)\n",
    "#weight_index = np.where((ytr[:,np.newaxis]>=d_i[:-1,np.newaxis].T) & (ytr[:,np.newaxis]<d_i[1:,np.newaxis].T)) [1]\n",
    "#weight_index = np.where((ytr[:,np.newaxis]>=bounds[:-1,np.newaxis].T) & (ytr[:,np.newaxis]<=bounds[1:,np.newaxis].T)) [1]\n",
    "#weight_index_2_way = np.searchsorted(d_i, ytest, side='right')\n",
    "# weight_index = np.where(((ytest[:,np.newaxis]>=di[:-1,np.newaxis].T) & (ytest[:,np.newaxis]<=di[1:,np.newaxis].T) ) )  [1]\n",
    "\n",
    "perc = np.percentile(ytr, np.arange(0, 101))\n",
    "di = perc[1:] - perc[:-1]\n",
    "wi = (1/di)/np.mean(1/di)\n",
    "weights_with_alfa = (wi-1)*alfa+1\n",
    "weight_index = np.searchsorted(di, ytr, side='left') - 1\n",
    "complex_weights = weights_with_alfa[weight_index]\n",
    "len(weight_index), len(ytr), len(perc), len( di)"
   ]
  },
  {
   "cell_type": "code",
   "execution_count": 22,
   "id": "3f751c0d",
   "metadata": {},
   "outputs": [
    {
     "data": {
      "text/plain": [
       "(43, 99)"
      ]
     },
     "execution_count": 22,
     "metadata": {},
     "output_type": "execute_result"
    }
   ],
   "source": [
    "weight_index.min(), weight_index.max()"
   ]
  },
  {
   "cell_type": "code",
   "execution_count": 25,
   "id": "daa930fd",
   "metadata": {},
   "outputs": [],
   "source": [
    "def calculate_weights_with_alfa(target: np.ndarray, alfa: float):\n",
    "    perc = np.percentile(target, np.arange(0, 101))\n",
    "    di = perc[1:] - perc[:-1]\n",
    "    wi = (1/di)/np.mean(1/di)\n",
    "    weights_with_alfa = (wi-1)*alfa+1\n",
    "    weight_index = np.searchsorted(di, target, side='left') - 1\n",
    "    complex_weights = weights_with_alfa[weight_index]\n",
    "    return complex_weights\n",
    "\n",
    "sample_weight = calculate_weights_with_alfa(ytr, 0.5)\n",
    "\n",
    "\n"
   ]
  },
  {
   "cell_type": "code",
   "execution_count": 11,
   "id": "b67c60bb",
   "metadata": {},
   "outputs": [
    {
     "data": {
      "text/plain": [
       "XGBRegressor(base_score=0.5, booster='gbtree', callbacks=None,\n",
       "             colsample_bylevel=1, colsample_bynode=1, colsample_bytree=1,\n",
       "             early_stopping_rounds=None, enable_categorical=False,\n",
       "             eval_metric=None, gamma=0, gpu_id=-1, grow_policy='depthwise',\n",
       "             importance_type=None, interaction_constraints='',\n",
       "             learning_rate=0.300000012, max_bin=256, max_cat_to_onehot=4,\n",
       "             max_delta_step=0, max_depth=6, max_leaves=0, min_child_weight=1,\n",
       "             missing=nan, monotone_constraints='()', n_estimators=100,\n",
       "             n_jobs=20, num_parallel_tree=1, predictor='auto', random_state=0,\n",
       "             reg_alpha=0, reg_lambda=1, ...)"
      ]
     },
     "execution_count": 11,
     "metadata": {},
     "output_type": "execute_result"
    }
   ],
   "source": [
    "#model = xgboost.XGBRegressor(n_estimators = 100, max_depth = 15,n_jobs = 20, objective='reg:squarederror')\n",
    "model = xgboost.XGBRegressor(n_jobs = 20, objective='reg:squarederror')\n",
    "model.fit(Xtr, ytr, sample_weight = complex_weights)"
   ]
  },
  {
   "cell_type": "code",
   "execution_count": 12,
   "id": "c378a45b",
   "metadata": {},
   "outputs": [
    {
     "name": "stdout",
     "output_type": "stream",
     "text": [
      "Prediction: 65.310\n"
     ]
    }
   ],
   "source": [
    "ytest_pred = model.predict(Xtest)\n",
    "rmse_value = np.sqrt(mean_squared_error(ytest_pred, ytest))\n",
    "print('Prediction: %.3f' % rmse_value)"
   ]
  },
  {
   "cell_type": "markdown",
   "id": "1364216c",
   "metadata": {},
   "source": [
    "# поиграться с регуляризацией\n",
    "+взвешивание весов и взвешенный лосс\n",
    "+ random forest regressor с взвешиванием\n",
    "\n"
   ]
  },
  {
   "cell_type": "code",
   "execution_count": null,
   "id": "48ef7a73",
   "metadata": {},
   "outputs": [],
   "source": []
  },
  {
   "cell_type": "code",
   "execution_count": null,
   "id": "5e2d3c21",
   "metadata": {},
   "outputs": [],
   "source": []
  },
  {
   "cell_type": "code",
   "execution_count": null,
   "id": "21606b29",
   "metadata": {},
   "outputs": [],
   "source": []
  },
  {
   "cell_type": "code",
   "execution_count": null,
   "id": "ad27a2b0",
   "metadata": {},
   "outputs": [],
   "source": []
  },
  {
   "cell_type": "code",
   "execution_count": null,
   "id": "760a56b3",
   "metadata": {},
   "outputs": [],
   "source": []
  },
  {
   "cell_type": "code",
   "execution_count": null,
   "id": "2830902b",
   "metadata": {},
   "outputs": [],
   "source": []
  },
  {
   "cell_type": "code",
   "execution_count": null,
   "id": "f55f2e23",
   "metadata": {},
   "outputs": [],
   "source": [
    "bounds = np.percentile(ytr, np.arange(0, 101))\n",
    "d_i = bounds[1:] - bounds[:-1]\n",
    "weights_classic = 100/(d_i*(np.sum(1/d_i)))\n",
    "weights_with_alfa = (weights_classic-1)*alfa+1\n",
    "weight_index = np.searchsorted(np.percentile(ytr, np.arange(0, 101)), ytr)#, side='right')\n",
    "simple_weights = weights[weight_index]\n",
    "simple_weights"
   ]
  },
  {
   "cell_type": "code",
   "execution_count": null,
   "id": "231f31ed",
   "metadata": {},
   "outputs": [],
   "source": []
  },
  {
   "cell_type": "code",
   "execution_count": null,
   "id": "296c1b7a",
   "metadata": {},
   "outputs": [],
   "source": [
    "    sample_weight: Optional[Any] = None, в fit\n",
    "reg_alpha : Optional[float]\n",
    "        L1 regularization term on weights (xgb's alpha)."
   ]
  },
  {
   "cell_type": "markdown",
   "id": "96875296",
   "metadata": {},
   "source": [
    "по ошибке сети не надо\n",
    "перевзесить по частотности таргетом, сделать гиперпараметром\n",
    "на тренировочной вычислить веса и использовать"
   ]
  },
  {
   "cell_type": "code",
   "execution_count": null,
   "id": "bca51f61",
   "metadata": {},
   "outputs": [],
   "source": []
  },
  {
   "cell_type": "code",
   "execution_count": null,
   "id": "d70da164",
   "metadata": {},
   "outputs": [],
   "source": []
  },
  {
   "cell_type": "code",
   "execution_count": null,
   "id": "0c142069",
   "metadata": {},
   "outputs": [],
   "source": []
  },
  {
   "cell_type": "code",
   "execution_count": null,
   "id": "d15f5755",
   "metadata": {},
   "outputs": [],
   "source": []
  },
  {
   "cell_type": "code",
   "execution_count": null,
   "id": "833e3c96",
   "metadata": {},
   "outputs": [],
   "source": []
  },
  {
   "cell_type": "code",
   "execution_count": null,
   "id": "08281e95",
   "metadata": {},
   "outputs": [],
   "source": []
  },
  {
   "cell_type": "code",
   "execution_count": null,
   "id": "f185ae69",
   "metadata": {},
   "outputs": [],
   "source": []
  },
  {
   "cell_type": "code",
   "execution_count": 37,
   "id": "0fcdf6fa",
   "metadata": {},
   "outputs": [],
   "source": [
    "# 1. Define an objective function to be maximized.\n",
    "def objective(trial):\n",
    "    # 2. Suggest values for the hyperparameters using a trial object.\n",
    "    gbr_n_estimators = trial.suggest_int('gbr_n_estimators', 100, 1500, log=True) # от первого до второго числа перебираем количество деревьев\n",
    "    gbr_max_depth = trial.suggest_int('gbr_max_depth', 5, 30, log=True) # от первого до второго числа перебираем максимальную глубину \n",
    "    alfa_range = trial.suggest_float('alfa', 0.0001, 1, log=True) # от первого до второго числа перебираем alfa\n",
    "    regressor_obj = xgboost.XGBRegressor(max_depth=gbr_max_depth, n_estimators=gbr_n_estimators, n_jobs = n_jobs, objective='reg:squarederror')\n",
    "    train, test = train_test_split(df_full['date_hour'].unique(),\n",
    "                                       test_size=0.05,\n",
    "                                       train_size=0.20)\n",
    "    df_train = df_full[df_full['date_hour'].isin(train)]\n",
    "    df_test = df_full[df_full['date_hour'].isin(test)]\n",
    "    Xtr, ytr = create_Xy(df_train)\n",
    "    Xtest, ytest = create_Xy(df_test)\n",
    "    sample_weight = calculate_weights_with_alfa(ytr, alfa_range)\n",
    "    regressor_obj.fit(Xtr, ytr, sample_weight = sample_weight)\n",
    "    ytest_pred = regressor_obj.predict(Xtest)\n",
    "    mae_value = (mean_absolute_error(ytest_pred, ytest))\n",
    "    if trial.should_prune():\n",
    "        raise optuna.TrialPruned()\n",
    "    return mae_value"
   ]
  },
  {
   "cell_type": "code",
   "execution_count": 36,
   "id": "22703590",
   "metadata": {},
   "outputs": [
    {
     "name": "stderr",
     "output_type": "stream",
     "text": [
      "\u001b[33m[W 2022-06-25 02:13:12,145]\u001b[0m Trial 3 failed because of the following error: UnboundLocalError(\"local variable 'ytr' referenced before assignment\")\u001b[0m\n",
      "Traceback (most recent call last):\n",
      "  File \"/storage/kubrick/mborisov/conda/lib/python3.9/site-packages/optuna/study/_optimize.py\", line 213, in _run_trial\n",
      "    value_or_values = func(trial)\n",
      "  File \"/tmp/ipykernel_9275/4170028161.py\", line 7, in objective\n",
      "    sample_weight = calculate_weights_with_alfa(ytr, 0.5)\n",
      "UnboundLocalError: local variable 'ytr' referenced before assignment\n"
     ]
    },
    {
     "ename": "UnboundLocalError",
     "evalue": "local variable 'ytr' referenced before assignment",
     "output_type": "error",
     "traceback": [
      "\u001b[0;31m---------------------------------------------------------------------------\u001b[0m",
      "\u001b[0;31mUnboundLocalError\u001b[0m                         Traceback (most recent call last)",
      "Input \u001b[0;32mIn [36]\u001b[0m, in \u001b[0;36m<cell line: 1>\u001b[0;34m()\u001b[0m\n\u001b[1;32m     10\u001b[0m \u001b[38;5;28;01mexcept\u001b[39;00m:\n\u001b[1;32m     11\u001b[0m     study \u001b[38;5;241m=\u001b[39m optuna\u001b[38;5;241m.\u001b[39mcreate_study(storage\u001b[38;5;241m=\u001b[39m\u001b[38;5;124m'\u001b[39m\u001b[38;5;124msqlite:///\u001b[39m\u001b[38;5;132;01m%s\u001b[39;00m\u001b[38;5;124m'\u001b[39m \u001b[38;5;241m%\u001b[39m db_fname,\n\u001b[1;32m     12\u001b[0m                                 study_name\u001b[38;5;241m=\u001b[39mstudy_name,\n\u001b[1;32m     13\u001b[0m                                 sampler\u001b[38;5;241m=\u001b[39moptuna\u001b[38;5;241m.\u001b[39msamplers\u001b[38;5;241m.\u001b[39mTPESampler(),\n\u001b[1;32m     14\u001b[0m                                 direction\u001b[38;5;241m=\u001b[39m\u001b[38;5;124m\"\u001b[39m\u001b[38;5;124mminimize\u001b[39m\u001b[38;5;124m\"\u001b[39m)\n\u001b[0;32m---> 16\u001b[0m \u001b[43mstudy\u001b[49m\u001b[38;5;241;43m.\u001b[39;49m\u001b[43moptimize\u001b[49m\u001b[43m(\u001b[49m\u001b[43mobjective\u001b[49m\u001b[43m,\u001b[49m\u001b[43m \u001b[49m\u001b[43mn_trials\u001b[49m\u001b[38;5;241;43m=\u001b[39;49m\u001b[38;5;241;43m300\u001b[39;49m\u001b[43m,\u001b[49m\u001b[43m \u001b[49m\u001b[43mgc_after_trial\u001b[49m\u001b[38;5;241;43m=\u001b[39;49m\u001b[38;5;28;43;01mTrue\u001b[39;49;00m\u001b[43m)\u001b[49m\n",
      "File \u001b[0;32m/storage/kubrick/mborisov/conda/lib/python3.9/site-packages/optuna/study/study.py:400\u001b[0m, in \u001b[0;36mStudy.optimize\u001b[0;34m(self, func, n_trials, timeout, n_jobs, catch, callbacks, gc_after_trial, show_progress_bar)\u001b[0m\n\u001b[1;32m    392\u001b[0m \u001b[38;5;28;01mif\u001b[39;00m n_jobs \u001b[38;5;241m!=\u001b[39m \u001b[38;5;241m1\u001b[39m:\n\u001b[1;32m    393\u001b[0m     warnings\u001b[38;5;241m.\u001b[39mwarn(\n\u001b[1;32m    394\u001b[0m         \u001b[38;5;124m\"\u001b[39m\u001b[38;5;124m`n_jobs` argument has been deprecated in v2.7.0. \u001b[39m\u001b[38;5;124m\"\u001b[39m\n\u001b[1;32m    395\u001b[0m         \u001b[38;5;124m\"\u001b[39m\u001b[38;5;124mThis feature will be removed in v4.0.0. \u001b[39m\u001b[38;5;124m\"\u001b[39m\n\u001b[1;32m    396\u001b[0m         \u001b[38;5;124m\"\u001b[39m\u001b[38;5;124mSee https://github.com/optuna/optuna/releases/tag/v2.7.0.\u001b[39m\u001b[38;5;124m\"\u001b[39m,\n\u001b[1;32m    397\u001b[0m         \u001b[38;5;167;01mFutureWarning\u001b[39;00m,\n\u001b[1;32m    398\u001b[0m     )\n\u001b[0;32m--> 400\u001b[0m \u001b[43m_optimize\u001b[49m\u001b[43m(\u001b[49m\n\u001b[1;32m    401\u001b[0m \u001b[43m    \u001b[49m\u001b[43mstudy\u001b[49m\u001b[38;5;241;43m=\u001b[39;49m\u001b[38;5;28;43mself\u001b[39;49m\u001b[43m,\u001b[49m\n\u001b[1;32m    402\u001b[0m \u001b[43m    \u001b[49m\u001b[43mfunc\u001b[49m\u001b[38;5;241;43m=\u001b[39;49m\u001b[43mfunc\u001b[49m\u001b[43m,\u001b[49m\n\u001b[1;32m    403\u001b[0m \u001b[43m    \u001b[49m\u001b[43mn_trials\u001b[49m\u001b[38;5;241;43m=\u001b[39;49m\u001b[43mn_trials\u001b[49m\u001b[43m,\u001b[49m\n\u001b[1;32m    404\u001b[0m \u001b[43m    \u001b[49m\u001b[43mtimeout\u001b[49m\u001b[38;5;241;43m=\u001b[39;49m\u001b[43mtimeout\u001b[49m\u001b[43m,\u001b[49m\n\u001b[1;32m    405\u001b[0m \u001b[43m    \u001b[49m\u001b[43mn_jobs\u001b[49m\u001b[38;5;241;43m=\u001b[39;49m\u001b[43mn_jobs\u001b[49m\u001b[43m,\u001b[49m\n\u001b[1;32m    406\u001b[0m \u001b[43m    \u001b[49m\u001b[43mcatch\u001b[49m\u001b[38;5;241;43m=\u001b[39;49m\u001b[43mcatch\u001b[49m\u001b[43m,\u001b[49m\n\u001b[1;32m    407\u001b[0m \u001b[43m    \u001b[49m\u001b[43mcallbacks\u001b[49m\u001b[38;5;241;43m=\u001b[39;49m\u001b[43mcallbacks\u001b[49m\u001b[43m,\u001b[49m\n\u001b[1;32m    408\u001b[0m \u001b[43m    \u001b[49m\u001b[43mgc_after_trial\u001b[49m\u001b[38;5;241;43m=\u001b[39;49m\u001b[43mgc_after_trial\u001b[49m\u001b[43m,\u001b[49m\n\u001b[1;32m    409\u001b[0m \u001b[43m    \u001b[49m\u001b[43mshow_progress_bar\u001b[49m\u001b[38;5;241;43m=\u001b[39;49m\u001b[43mshow_progress_bar\u001b[49m\u001b[43m,\u001b[49m\n\u001b[1;32m    410\u001b[0m \u001b[43m\u001b[49m\u001b[43m)\u001b[49m\n",
      "File \u001b[0;32m/storage/kubrick/mborisov/conda/lib/python3.9/site-packages/optuna/study/_optimize.py:66\u001b[0m, in \u001b[0;36m_optimize\u001b[0;34m(study, func, n_trials, timeout, n_jobs, catch, callbacks, gc_after_trial, show_progress_bar)\u001b[0m\n\u001b[1;32m     64\u001b[0m \u001b[38;5;28;01mtry\u001b[39;00m:\n\u001b[1;32m     65\u001b[0m     \u001b[38;5;28;01mif\u001b[39;00m n_jobs \u001b[38;5;241m==\u001b[39m \u001b[38;5;241m1\u001b[39m:\n\u001b[0;32m---> 66\u001b[0m         \u001b[43m_optimize_sequential\u001b[49m\u001b[43m(\u001b[49m\n\u001b[1;32m     67\u001b[0m \u001b[43m            \u001b[49m\u001b[43mstudy\u001b[49m\u001b[43m,\u001b[49m\n\u001b[1;32m     68\u001b[0m \u001b[43m            \u001b[49m\u001b[43mfunc\u001b[49m\u001b[43m,\u001b[49m\n\u001b[1;32m     69\u001b[0m \u001b[43m            \u001b[49m\u001b[43mn_trials\u001b[49m\u001b[43m,\u001b[49m\n\u001b[1;32m     70\u001b[0m \u001b[43m            \u001b[49m\u001b[43mtimeout\u001b[49m\u001b[43m,\u001b[49m\n\u001b[1;32m     71\u001b[0m \u001b[43m            \u001b[49m\u001b[43mcatch\u001b[49m\u001b[43m,\u001b[49m\n\u001b[1;32m     72\u001b[0m \u001b[43m            \u001b[49m\u001b[43mcallbacks\u001b[49m\u001b[43m,\u001b[49m\n\u001b[1;32m     73\u001b[0m \u001b[43m            \u001b[49m\u001b[43mgc_after_trial\u001b[49m\u001b[43m,\u001b[49m\n\u001b[1;32m     74\u001b[0m \u001b[43m            \u001b[49m\u001b[43mreseed_sampler_rng\u001b[49m\u001b[38;5;241;43m=\u001b[39;49m\u001b[38;5;28;43;01mFalse\u001b[39;49;00m\u001b[43m,\u001b[49m\n\u001b[1;32m     75\u001b[0m \u001b[43m            \u001b[49m\u001b[43mtime_start\u001b[49m\u001b[38;5;241;43m=\u001b[39;49m\u001b[38;5;28;43;01mNone\u001b[39;49;00m\u001b[43m,\u001b[49m\n\u001b[1;32m     76\u001b[0m \u001b[43m            \u001b[49m\u001b[43mprogress_bar\u001b[49m\u001b[38;5;241;43m=\u001b[39;49m\u001b[43mprogress_bar\u001b[49m\u001b[43m,\u001b[49m\n\u001b[1;32m     77\u001b[0m \u001b[43m        \u001b[49m\u001b[43m)\u001b[49m\n\u001b[1;32m     78\u001b[0m     \u001b[38;5;28;01melse\u001b[39;00m:\n\u001b[1;32m     79\u001b[0m         \u001b[38;5;28;01mif\u001b[39;00m show_progress_bar:\n",
      "File \u001b[0;32m/storage/kubrick/mborisov/conda/lib/python3.9/site-packages/optuna/study/_optimize.py:163\u001b[0m, in \u001b[0;36m_optimize_sequential\u001b[0;34m(study, func, n_trials, timeout, catch, callbacks, gc_after_trial, reseed_sampler_rng, time_start, progress_bar)\u001b[0m\n\u001b[1;32m    160\u001b[0m         \u001b[38;5;28;01mbreak\u001b[39;00m\n\u001b[1;32m    162\u001b[0m \u001b[38;5;28;01mtry\u001b[39;00m:\n\u001b[0;32m--> 163\u001b[0m     trial \u001b[38;5;241m=\u001b[39m \u001b[43m_run_trial\u001b[49m\u001b[43m(\u001b[49m\u001b[43mstudy\u001b[49m\u001b[43m,\u001b[49m\u001b[43m \u001b[49m\u001b[43mfunc\u001b[49m\u001b[43m,\u001b[49m\u001b[43m \u001b[49m\u001b[43mcatch\u001b[49m\u001b[43m)\u001b[49m\n\u001b[1;32m    164\u001b[0m \u001b[38;5;28;01mexcept\u001b[39;00m \u001b[38;5;167;01mException\u001b[39;00m:\n\u001b[1;32m    165\u001b[0m     \u001b[38;5;28;01mraise\u001b[39;00m\n",
      "File \u001b[0;32m/storage/kubrick/mborisov/conda/lib/python3.9/site-packages/optuna/study/_optimize.py:264\u001b[0m, in \u001b[0;36m_run_trial\u001b[0;34m(study, func, catch)\u001b[0m\n\u001b[1;32m    261\u001b[0m         \u001b[38;5;28;01massert\u001b[39;00m \u001b[38;5;28;01mFalse\u001b[39;00m, \u001b[38;5;124m\"\u001b[39m\u001b[38;5;124mShould not reach.\u001b[39m\u001b[38;5;124m\"\u001b[39m\n\u001b[1;32m    263\u001b[0m \u001b[38;5;28;01mif\u001b[39;00m state \u001b[38;5;241m==\u001b[39m TrialState\u001b[38;5;241m.\u001b[39mFAIL \u001b[38;5;129;01mand\u001b[39;00m func_err \u001b[38;5;129;01mis\u001b[39;00m \u001b[38;5;129;01mnot\u001b[39;00m \u001b[38;5;28;01mNone\u001b[39;00m \u001b[38;5;129;01mand\u001b[39;00m \u001b[38;5;129;01mnot\u001b[39;00m \u001b[38;5;28misinstance\u001b[39m(func_err, catch):\n\u001b[0;32m--> 264\u001b[0m     \u001b[38;5;28;01mraise\u001b[39;00m func_err\n\u001b[1;32m    265\u001b[0m \u001b[38;5;28;01mreturn\u001b[39;00m trial\n",
      "File \u001b[0;32m/storage/kubrick/mborisov/conda/lib/python3.9/site-packages/optuna/study/_optimize.py:213\u001b[0m, in \u001b[0;36m_run_trial\u001b[0;34m(study, func, catch)\u001b[0m\n\u001b[1;32m    210\u001b[0m     thread\u001b[38;5;241m.\u001b[39mstart()\n\u001b[1;32m    212\u001b[0m \u001b[38;5;28;01mtry\u001b[39;00m:\n\u001b[0;32m--> 213\u001b[0m     value_or_values \u001b[38;5;241m=\u001b[39m \u001b[43mfunc\u001b[49m\u001b[43m(\u001b[49m\u001b[43mtrial\u001b[49m\u001b[43m)\u001b[49m\n\u001b[1;32m    214\u001b[0m \u001b[38;5;28;01mexcept\u001b[39;00m exceptions\u001b[38;5;241m.\u001b[39mTrialPruned \u001b[38;5;28;01mas\u001b[39;00m e:\n\u001b[1;32m    215\u001b[0m     \u001b[38;5;66;03m# TODO(mamu): Handle multi-objective cases.\u001b[39;00m\n\u001b[1;32m    216\u001b[0m     state \u001b[38;5;241m=\u001b[39m TrialState\u001b[38;5;241m.\u001b[39mPRUNED\n",
      "Input \u001b[0;32mIn [35]\u001b[0m, in \u001b[0;36mobjective\u001b[0;34m(trial)\u001b[0m\n\u001b[1;32m      5\u001b[0m gbr_max_depth \u001b[38;5;241m=\u001b[39m trial\u001b[38;5;241m.\u001b[39msuggest_int(\u001b[38;5;124m'\u001b[39m\u001b[38;5;124mgbr_max_depth\u001b[39m\u001b[38;5;124m'\u001b[39m, \u001b[38;5;241m5\u001b[39m, \u001b[38;5;241m30\u001b[39m, log\u001b[38;5;241m=\u001b[39m\u001b[38;5;28;01mTrue\u001b[39;00m) \u001b[38;5;66;03m# от первого до второго числа перебираем максимальную глубину \u001b[39;00m\n\u001b[1;32m      6\u001b[0m alfa_range \u001b[38;5;241m=\u001b[39m trial\u001b[38;5;241m.\u001b[39msuggest_float(\u001b[38;5;124m'\u001b[39m\u001b[38;5;124malfa\u001b[39m\u001b[38;5;124m'\u001b[39m, \u001b[38;5;241m0.000001\u001b[39m, \u001b[38;5;241m1\u001b[39m, log\u001b[38;5;241m=\u001b[39m\u001b[38;5;28;01mTrue\u001b[39;00m) \u001b[38;5;66;03m# от первого до второго числа перебираем alfa\u001b[39;00m\n\u001b[0;32m----> 7\u001b[0m sample_weight \u001b[38;5;241m=\u001b[39m calculate_weights_with_alfa(\u001b[43mytr\u001b[49m, \u001b[38;5;241m0.5\u001b[39m)\n\u001b[1;32m      9\u001b[0m regressor_obj \u001b[38;5;241m=\u001b[39m xgboost\u001b[38;5;241m.\u001b[39mXGBRegressor(max_depth\u001b[38;5;241m=\u001b[39mgbr_max_depth, n_estimators\u001b[38;5;241m=\u001b[39mgbr_n_estimators, n_jobs \u001b[38;5;241m=\u001b[39m n_jobs, objective\u001b[38;5;241m=\u001b[39m\u001b[38;5;124m'\u001b[39m\u001b[38;5;124mreg:squarederror\u001b[39m\u001b[38;5;124m'\u001b[39m)\n\u001b[1;32m     10\u001b[0m train, test \u001b[38;5;241m=\u001b[39m train_test_split(df_full[\u001b[38;5;124m'\u001b[39m\u001b[38;5;124mdate_hour\u001b[39m\u001b[38;5;124m'\u001b[39m]\u001b[38;5;241m.\u001b[39munique(),\n\u001b[1;32m     11\u001b[0m                                    test_size\u001b[38;5;241m=\u001b[39m\u001b[38;5;241m0.05\u001b[39m,\n\u001b[1;32m     12\u001b[0m                                    train_size\u001b[38;5;241m=\u001b[39m\u001b[38;5;241m0.20\u001b[39m)\n",
      "\u001b[0;31mUnboundLocalError\u001b[0m: local variable 'ytr' referenced before assignment"
     ]
    }
   ],
   "source": [
    "if __name__ == \"__main__\":\n",
    "    #err_fname = './logs/hpo_richards_gamma.err'\n",
    "    db_fname = 'Cubrick_predict_sun_swrad.db'\n",
    "    study_name = 'Cubrick_predict_sun_swrad_gbr_with_weights'\n",
    "\n",
    "    try:\n",
    "        study = optuna.load_study(study_name=study_name,\n",
    "                                  storage=\"sqlite:///%s\" % db_fname,\n",
    "                                  sampler=optuna.samplers.TPESampler())\n",
    "    except:\n",
    "        study = optuna.create_study(storage='sqlite:///%s' % db_fname,\n",
    "                                    study_name=study_name,\n",
    "                                    sampler=optuna.samplers.TPESampler(),\n",
    "                                    direction=\"minimize\")\n",
    "\n",
    "    study.optimize(objective, n_trials=300, gc_after_trial=True)"
   ]
  },
  {
   "cell_type": "code",
   "execution_count": null,
   "id": "d6bfd83d",
   "metadata": {},
   "outputs": [],
   "source": [
    "\n"
   ]
  },
  {
   "cell_type": "code",
   "execution_count": null,
   "id": "d47c05c8",
   "metadata": {},
   "outputs": [],
   "source": []
  },
  {
   "cell_type": "code",
   "execution_count": null,
   "id": "b50c0227",
   "metadata": {},
   "outputs": [],
   "source": []
  },
  {
   "cell_type": "code",
   "execution_count": null,
   "id": "193687bc",
   "metadata": {},
   "outputs": [],
   "source": []
  }
 ],
 "metadata": {
  "kernelspec": {
   "display_name": "Python 3 (ipykernel)",
   "language": "python",
   "name": "python3"
  },
  "language_info": {
   "codemirror_mode": {
    "name": "ipython",
    "version": 3
   },
   "file_extension": ".py",
   "mimetype": "text/x-python",
   "name": "python",
   "nbconvert_exporter": "python",
   "pygments_lexer": "ipython3",
   "version": "3.9.12"
  }
 },
 "nbformat": 4,
 "nbformat_minor": 5
}
